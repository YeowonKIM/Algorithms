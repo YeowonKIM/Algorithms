{
 "cells": [
  {
   "cell_type": "markdown",
   "id": "01c4d53a",
   "metadata": {},
   "source": [
    "## Huffman Coding Problem\n",
    "\n",
    "<br>\n",
    "\n",
    "### 문제 및 알고리즘\n",
    "- https://www.notion.so/Huffman-Code-5eba005675e249b3a74a8a1f580c60cd\n",
    "- 수행시간 = O(n logn)\n",
    "<br>\n",
    "\n",
    "### 입출력 예시\n",
    "- 입력 : 첫 줄에 주어진 n개의 자연수(빈도수)를 입력받아 리스트 f에 저장한다. i번째 값 f[i]는 문자 i의 빈도수 f(i)를 의미한다.\n",
    "- 출력 : 최적 코드 트리의 비용 (cost)를 출력한다.\n",
    "<br>\n",
    "\n",
    "- ex1\n",
    "  - 입력 : 43 13 12 16 9 7 <br>\n",
    "  - 출력 : 230\n",
    "<br>\n",
    "\n",
    "\n",
    "- ex2\n",
    "    - 입력 : 7 12 5 10 4 2\n",
    "    - 출력 : 97\n",
    "  \n",
    "  <br>"
   ]
  },
  {
   "cell_type": "code",
   "execution_count": 5,
   "id": "f021a2d9",
   "metadata": {},
   "outputs": [
    {
     "name": "stdout",
     "output_type": "stream",
     "text": [
      "43 13 12 16 9 7\n",
      "230\n"
     ]
    }
   ],
   "source": [
    "from heapq import heappush, heappop\n",
    "\n",
    "def huffman_algorithm(f):\n",
    "    n = len(f)\n",
    "    H = []\n",
    "\n",
    "    for x in range(n):\n",
    "        heappush(H, (f[x], str(x)))\n",
    "\n",
    "    while len(H) > 1:\n",
    "        a = heappop(H)\n",
    "        b = heappop(H)  \n",
    "        heappush(H, (a[0] + b[0], '(' + a[1]+ ',' +b[1] + ')'))\n",
    "\n",
    "    tree_string = heappop(H)[1]\n",
    "    depth = 0; cost = 0\n",
    "\n",
    "    for i in range(len(tree_string)):\n",
    "        if tree_string[i] == '(':\n",
    "            depth += 1\n",
    "        elif tree_string[i] == ')':\n",
    "            depth -= 1\n",
    "        elif tree_string[i] == ',':\n",
    "            pass\n",
    "        else:\n",
    "            cost += f[int(tree_string[i])] * depth\n",
    "    return cost\n",
    "\n",
    "f = list(map(int, input().split()))\n",
    "print(huffman_algorithm(f))"
   ]
  },
  {
   "cell_type": "code",
   "execution_count": null,
   "id": "680bbbca",
   "metadata": {},
   "outputs": [],
   "source": []
  }
 ],
 "metadata": {
  "kernelspec": {
   "display_name": "Python 3 (ipykernel)",
   "language": "python",
   "name": "python3"
  },
  "language_info": {
   "codemirror_mode": {
    "name": "ipython",
    "version": 3
   },
   "file_extension": ".py",
   "mimetype": "text/x-python",
   "name": "python",
   "nbconvert_exporter": "python",
   "pygments_lexer": "ipython3",
   "version": "3.9.13"
  }
 },
 "nbformat": 4,
 "nbformat_minor": 5
}

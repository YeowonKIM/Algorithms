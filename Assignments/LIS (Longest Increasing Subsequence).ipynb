{
 "cells": [
  {
   "cell_type": "markdown",
   "id": "28a350c3",
   "metadata": {},
   "source": [
    "## 최장 증가 부수열 (LIS: Longest Increasing Subsequence)\n",
    "\n",
    "<br> \n",
    "\n",
    "#### 문제\n",
    "- 입력 문자열에서 문자를 뽑아 만드는 부문자열(subsequence) 중에서 부문자열의 문자가 점점 커지는 부문자열을 '증가' 부문자열이라고 한다.\n",
    "    - 만약, bcaedh이 입력이면 , bceh는 b<c<e<h 이므로 증가 믄지얄이 맞다. bcdh 역시 증가 문자열이다.\n",
    "    - caeh는 증가 문자열이 되지 않는다.\n",
    "- LIS는 위와 같은 증가 부문자열 중, 가장 긴 경우를 찾는 문제이다.\n",
    "- 동적 계획법을 사용하여 문제를 해결한다.\n",
    "\n",
    "<br>\n",
    "\n",
    "#### 입출력 예시\n",
    "- 입력 : abcabc \n",
    "- 출력 : 3\n",
    "\n",
    "<br>\n",
    "\n",
    "- 입력 : abbcbbdbbe\n",
    "- 출력 : 5\n",
    "\n",
    "<br>"
   ]
  },
  {
   "cell_type": "markdown",
   "id": "f445d3bf",
   "metadata": {},
   "source": [
    "#### 알고리즘\n",
    "- 입력 'seq'와 동일한 길이의 배열 'DP'를 초기화하여 각 위치에 LIS의 길이를 저장한다.\n",
    "- 각 요소 seq[i]에 대해 seq[i-1]에서 seq[0]까지 역방향으로 반복하면서 이전 요소가 seq[i]보다 작은지 확인한다.\n",
    "- 이전 요소 seq[j]가 seq[i]보다 작으면 DP[i]를 현재 값과 DP[j] + 1 사이의 최대값으로 갱신한다.\n",
    "- 반복을 마치면 DP의 최대값을 반환한다.\n",
    "\n",
    "<br> \n",
    "\n",
    "#### 수행시간\n",
    "- O(n^2)\n",
    "\n",
    "<br>\n"
   ]
  },
  {
   "cell_type": "code",
   "execution_count": 1,
   "id": "7be3cf28",
   "metadata": {},
   "outputs": [
    {
     "name": "stdout",
     "output_type": "stream",
     "text": [
      "abcabc\n",
      "3\n"
     ]
    }
   ],
   "source": [
    "def print_IS(seq, x):\n",
    "    for i in range(len(seq)):\n",
    "        if x[i]: \n",
    "            print(seq[i], end=\"\")\n",
    "        else:\n",
    "            print(\"_\", end=\"\")\n",
    "    print()\n",
    "\n",
    "def LIS_DP(seq):\n",
    "    x = [0] * len(seq)\n",
    "    DP = [0] * len(seq)\n",
    "    \n",
    "    for i in range(len(seq)):\n",
    "        DP[i] = 1  \n",
    "        for j in range(i-1, -1, -1):\n",
    "            if seq[j] < seq[i]:\n",
    "                DP[i] = max(DP[i], DP[j] + 1)\n",
    "\n",
    "    return max(DP), x\n",
    "\n",
    "seq = input()  # 알파벳 소문자로만 구성된 string 하나가 입력된다\n",
    "lis, x = LIS_DP(seq)\n",
    "print(lis)"
   ]
  },
  {
   "cell_type": "code",
   "execution_count": null,
   "id": "85a8b469",
   "metadata": {},
   "outputs": [],
   "source": []
  }
 ],
 "metadata": {
  "kernelspec": {
   "display_name": "Python 3 (ipykernel)",
   "language": "python",
   "name": "python3"
  },
  "language_info": {
   "codemirror_mode": {
    "name": "ipython",
    "version": 3
   },
   "file_extension": ".py",
   "mimetype": "text/x-python",
   "name": "python",
   "nbconvert_exporter": "python",
   "pygments_lexer": "ipython3",
   "version": "3.9.13"
  }
 },
 "nbformat": 4,
 "nbformat_minor": 5
}

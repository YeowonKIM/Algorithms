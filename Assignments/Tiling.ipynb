{
 "cells": [
  {
   "cell_type": "markdown",
   "id": "cc0b7414",
   "metadata": {},
   "source": [
    "# Tiling with I and L dominoes\n",
    "\n",
    "<br>\n",
    "\n",
    "### 문제\n",
    "- 2*n 판을 I자 모양 도미노와 L자 모양 도미노로 채우는 경우의 수를 계산해 출력하라.\n",
    "    - 두 모양의 도미노는 충분히 많다.\n",
    "    - 도미노를 원하는 각도(90, 180, 270도 등)로 회전하고 상하좌우 대칭을 자유롭게 배치 가능하다.\n",
    "    \n",
    "<br>\n",
    "\n",
    "<img src=\"https://img1.daumcdn.net/thumb/R1280x0/?scode=mtistory2&fname=https%3A%2F%2Fblog.kakaocdn.net%2Fdn%2F7GxsE%2Fbtsji27JScc%2F5Fv7KUG8KmMD8pFDVxGhT1%2Fimg.png\n",
    "\"  width=\"500\" height=\"300\">\n",
    "\n",
    "<br>\n",
    "\n",
    "\n",
    "### 입출력 \n",
    "- 입력 : n <br>\n",
    "- 출력 : 두 가지 모양의 도미노롤 채울 수 있는 경우의 수\n",
    "\n",
    "<br>\n",
    "\n",
    "- [입력] 2 -> [출력] 2\n",
    "- [입력] 3 -> [출력] 5\n",
    "- [입력] 4 -> [출력] 11\n",
    "\n",
    "<br>"
   ]
  },
  {
   "cell_type": "markdown",
   "id": "f1152c1d",
   "metadata": {},
   "source": [
    "## 알고리즘 \n",
    "\n",
    "- 1. A는 2xN 그리드를 타일링하는 방법의 수를 저장하며, B는 중간 값을 저장한다.\n",
    "- 2. A[0], A[1], B[0], B[1]의 초기값을 설정한다.\n",
    "- 3. 반복문은 2에서 n까지의 격자 너비 범위를 반복한다.\n",
    "- 4. A[i] = A[i-1] + A[i-2] + 2*B[i-1] 는  2xi 그리드를 타일링하는 방법의 수를 계산한다. A와 B의 이전 값을 사용한다.\n",
    "    - A[i-1] : 이전 격자(i-1)로 타일링하는 방법의 수\n",
    "    - A[i-2] : (i-2)격자까지 그리드를 타일링하는 방법의 수\n",
    "    - 2*B[i-1]은 1x2 타일의 이전 너비로 격자를 타일링하는 추가 방법을 나타낸다.\n",
    "- 5. B[i] = B[i-1] + A[i-2]는 A 및 B의 이전 값을 기반으로 B[i]의 중간 값을 계산한다. \n",
    "- 6. 마지막으로 2xN 그리드를 타일링하는 방법의 수를 반환한다.\n",
    "\n",
    "<br>"
   ]
  },
  {
   "cell_type": "code",
   "execution_count": 1,
   "id": "1b2c317c",
   "metadata": {},
   "outputs": [
    {
     "name": "stdout",
     "output_type": "stream",
     "text": [
      "3\n",
      "5\n"
     ]
    }
   ],
   "source": [
    "def dp_tiling(n):\n",
    "    A = [0] * (n+1)\n",
    "    B = [0] * (n+1)\n",
    "    \n",
    "    A[0] = 0\n",
    "    A[1] = 1\n",
    "    B[0] = 0\n",
    "    B[1] = 0\n",
    "    \n",
    "    for i in range(2, n+1):\n",
    "        A[i] = A[i-1] + A[i-2] + 2*B[i-1]\n",
    "        B[i] = B[i-1] + A[i-2]\n",
    "        \n",
    "    return A[n]\n",
    "\n",
    "num = int(input())\n",
    "print(dp_tiling(num+1))"
   ]
  },
  {
   "cell_type": "code",
   "execution_count": null,
   "id": "33538a60",
   "metadata": {},
   "outputs": [],
   "source": []
  }
 ],
 "metadata": {
  "kernelspec": {
   "display_name": "Python 3 (ipykernel)",
   "language": "python",
   "name": "python3"
  },
  "language_info": {
   "codemirror_mode": {
    "name": "ipython",
    "version": 3
   },
   "file_extension": ".py",
   "mimetype": "text/x-python",
   "name": "python",
   "nbconvert_exporter": "python",
   "pygments_lexer": "ipython3",
   "version": "3.9.13"
  }
 },
 "nbformat": 4,
 "nbformat_minor": 5
}

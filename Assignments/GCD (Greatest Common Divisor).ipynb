{
 "cells": [
  {
   "cell_type": "markdown",
   "id": "ac123790",
   "metadata": {},
   "source": [
    "# GCD (Greatest Common Divisor)\n",
    "\n",
    "<br>\n",
    "\n",
    "### 문제\n",
    "- a, b 두 수의 최대 공약수를 구하는 문제\n",
    "\n",
    "<br>\n",
    "\n",
    "### 입출력 예시\n",
    "- 입력 : 두 양의 정수 a, b\n",
    "- 출력 : 최대 공약수를 구하는 세 가지 함수의 결과 \n",
    "<br>\n",
    "\n",
    "- ex1\n",
    "  - 입력 : 1024 2 <br>\n",
    "  - 출력 : 2 2 2\n",
    "<br>\n",
    "\n",
    "- ex2\n",
    "    - 입력 : 16 6 <br>\n",
    "    - 출력 : 2 2 2 \n",
    "  \n",
    "  <br>"
   ]
  },
  {
   "cell_type": "code",
   "execution_count": 5,
   "id": "f369d064",
   "metadata": {},
   "outputs": [
    {
     "name": "stdout",
     "output_type": "stream",
     "text": [
      "1024 2\n",
      "2 2 2\n"
     ]
    }
   ],
   "source": [
    "def gcd_sub(a, b):\n",
    "    while a*b !=0:\n",
    "        if a>b:\n",
    "            a = a-b\n",
    "        else:\n",
    "            b = b-a\n",
    "    return a+b\n",
    "\t\n",
    "def gcd_mod(a, b):\n",
    "    while a*b !=0:\n",
    "        if a>b:\n",
    "            a = a%b\n",
    "        else:\n",
    "            b = b%a\n",
    "    return a+b\n",
    "\t\n",
    "\t\n",
    "def gcd_rec(a, b):\n",
    "    if a*b == 0:\n",
    "        return a+b\n",
    "    if a>b:\n",
    "        return gcd_rec(a%b, b)\n",
    "    else:\n",
    "        return gcd_rec(a, b%a)\n",
    "\t\n",
    "a, b = map(int, input().split())\n",
    "print(gcd_sub(a, b), gcd_mod(a, b), gcd_rec(a, b))"
   ]
  },
  {
   "cell_type": "code",
   "execution_count": null,
   "id": "44a3d138",
   "metadata": {},
   "outputs": [],
   "source": []
  }
 ],
 "metadata": {
  "kernelspec": {
   "display_name": "Python 3 (ipykernel)",
   "language": "python",
   "name": "python3"
  },
  "language_info": {
   "codemirror_mode": {
    "name": "ipython",
    "version": 3
   },
   "file_extension": ".py",
   "mimetype": "text/x-python",
   "name": "python",
   "nbconvert_exporter": "python",
   "pygments_lexer": "ipython3",
   "version": "3.9.13"
  }
 },
 "nbformat": 4,
 "nbformat_minor": 5
}
